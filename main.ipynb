{
 "cells": [
  {
   "cell_type": "markdown",
   "metadata": {},
   "source": [
    "Лабораторная работа №2 студента группы 6304 Алеева Ибрагима по дисциплине \"Дифференциальные уравнения\"\n",
    "Вариант 1 \\\n",
    "Дано:\n",
    "$$ y'' + 2y' = 4e^{x} (\\sin x + \\cos x )  $$\n",
    "$$ y(0) = 1 $$\n",
    "$$ y'(1) = 2 $$"
   ]
  },
  {
   "cell_type": "code",
   "execution_count": 7,
   "metadata": {},
   "outputs": [],
   "source": [
    "import numpy\n",
    "import pandas\n",
    "from matplotlib import pyplot as plt"
   ]
  },
  {
   "cell_type": "code",
   "execution_count": 6,
   "metadata": {},
   "outputs": [
    {
     "name": "stdout",
     "output_type": "stream",
     "text": [
      "len(Points)=2\tN=2\n",
      "Points=[0.0, 1.0]\n"
     ]
    }
   ],
   "source": [
    "From = 0\n",
    "To = 1\n",
    "N = int(2)\n",
    "if N == 1:\n",
    "    raise ValueError('To less points. Must be greater than 1 ( N >= 2 ).')\n",
    "H = (To - From) / (N - 1)\n",
    "Points = [ a*H + From for a in range(N) ]\n",
    "print(f\"{len(Points)=}\\t{N=}\\n{Points=}\")\n"
   ]
  },
  {
   "cell_type": "markdown",
   "metadata": {},
   "source": [
    "Метод сеток состоит в том, что область (From; To) заменяется дискретной областью — массивом из N точек"
   ]
  },
  {
   "cell_type": "code",
   "execution_count": null,
   "metadata": {},
   "outputs": [],
   "source": []
  }
 ],
 "metadata": {
  "kernelspec": {
   "display_name": "Python 3.10.1 64-bit",
   "language": "python",
   "name": "python3"
  },
  "language_info": {
   "codemirror_mode": {
    "name": "ipython",
    "version": 3
   },
   "file_extension": ".py",
   "mimetype": "text/x-python",
   "name": "python",
   "nbconvert_exporter": "python",
   "pygments_lexer": "ipython3",
   "version": "3.10.1"
  },
  "orig_nbformat": 4,
  "vscode": {
   "interpreter": {
    "hash": "1fa163922eb0b3709bbb5d8082b2465c9de796dbaacca80cbaa600e7fff3e4fe"
   }
  }
 },
 "nbformat": 4,
 "nbformat_minor": 2
}
