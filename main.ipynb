{
 "cells": [
  {
   "cell_type": "markdown",
   "metadata": {},
   "source": [
    "Лабораторная работа №2 студента группы 6304 Алеева Ибрагима по дисциплине \"Дифференциальные уравнения\"\n",
    "Вариант 1 \\\n",
    "Дано:\n",
    "$$ y'' + 2y' = 4e^{x} (\\sin x + \\cos x )  $$\n",
    "$$ y(0) = 1 $$\n",
    "$$ y'(1) = 2 $$"
   ]
  },
  {
   "cell_type": "code",
   "execution_count": 1,
   "metadata": {},
   "outputs": [],
   "source": [
    "import numpy as np\n",
    "import pandas as pd\n",
    "from matplotlib import pyplot as plt"
   ]
  },
  {
   "cell_type": "markdown",
   "metadata": {},
   "source": [
    "$$ \\Rightarrow From = 0 $$\n",
    "$$ \\Rightarrow To = 1 $$"
   ]
  },
  {
   "cell_type": "markdown",
   "metadata": {},
   "source": [
    "Метод сеток состоит в том, что область (From; To) заменяется дискретной областью — массивом из N точек"
   ]
  },
  {
   "cell_type": "code",
   "execution_count": 6,
   "metadata": {},
   "outputs": [
    {
     "name": "stdout",
     "output_type": "stream",
     "text": [
      "len(Points)=2\tN=2\n",
      "Points=[0.0, 1.0]\n"
     ]
    }
   ],
   "source": [
    "From = 0\n",
    "To = 1\n",
    "N = int(2)\n",
    "if N == 1:\n",
    "    raise ValueError('To less points. Must be greater than 1 ( N >= 2 ).')\n",
    "H = (To - From) / (N - 1)\n",
    "Points = [ a*H + From for a in range(N) ]\n",
    "print(f\"{len(Points)=}\\t{N=}\\n{Points=}\")\n"
   ]
  },
  {
   "cell_type": "markdown",
   "metadata": {},
   "source": [
    "Соответственно:\n",
    "$$ L(y) \\equiv y'' + p(x) y' +q(x) y = f(x) $$\n",
    "$$ \\Rightarrow p(x) = 2 $$\n",
    "$$ \\Rightarrow q(x) = 0 $$\n",
    "$$ \\Rightarrow f(x) = 4e^{x} (\\sin x + \\cos x ) $$\n",
    "$$ l_\\alpha(y) = \\alpha_0 y(From) + \\alpha_1 y'(From) = A $$\n",
    "$$ \\Rightarrow \\alpha_0 = 1 $$\n",
    "$$ \\Rightarrow \\alpha_1 = 0 $$\n",
    "$$ \\Rightarrow A = 1 $$\n",
    "$$ l_\\beta(y) = \\beta_0 y(To) + \\beta_1 y'(To) = B $$\n",
    "$$ \\Rightarrow \\beta_0 = 0 $$\n",
    "$$ \\Rightarrow \\beta_1 = 1 $$\n",
    "$$ \\Rightarrow B = 2 $$"
   ]
  },
  {
   "cell_type": "code",
   "execution_count": 1,
   "metadata": {},
   "outputs": [],
   "source": [
    "p = lambda x: 2\n",
    "q = lambda x: 0\n",
    "f = lambda x: 4 * np.exp(x) * ( np.sin(x) + np.cos(x))\n",
    "alpha_0 = 1\n",
    "alpha_1 = 0\n",
    "beta_0 = 0\n",
    "beta_1 = 1\n",
    "A = 1\n",
    "B = 2"
   ]
  },
  {
   "cell_type": "markdown",
   "metadata": {},
   "source": [
    "# { 0\t\t\tb[0]\t\tc[0]\t\td[0] } = { 0\th*alpha_0 - alpha_1\talpha_1\tA*h}\n",
    "# { a[i]\t\tb[i]\t\tc[i]\t\td[i] } = { 1 - h*p[i] / 2\th*h*q[i]-2 1+h*p[i]/2\th*h*f[i]}\n",
    "# { a[N]\t\tb[N]\t\t0\t\t\td[N] } = { -beta_1\th*beta_0 + beta_1\t0\tB*h}"
   ]
  },
  {
   "cell_type": "code",
   "execution_count": null,
   "metadata": {},
   "outputs": [],
   "source": [
    "def iter():\n",
    "    "
   ]
  }
 ],
 "metadata": {
  "kernelspec": {
   "display_name": "Python 3.10.1 64-bit",
   "language": "python",
   "name": "python3"
  },
  "language_info": {
   "codemirror_mode": {
    "name": "ipython",
    "version": 3
   },
   "file_extension": ".py",
   "mimetype": "text/x-python",
   "name": "python",
   "nbconvert_exporter": "python",
   "pygments_lexer": "ipython3",
   "version": "3.10.1"
  },
  "orig_nbformat": 4,
  "vscode": {
   "interpreter": {
    "hash": "1fa163922eb0b3709bbb5d8082b2465c9de796dbaacca80cbaa600e7fff3e4fe"
   }
  }
 },
 "nbformat": 4,
 "nbformat_minor": 2
}
