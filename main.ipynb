{
 "cells": [
  {
   "cell_type": "markdown",
   "metadata": {},
   "source": [
    "Лабораторная работа №2 студента группы 6304 Алеева Ибрагима по дисциплине \"Дифференциальные уравнения\"\n",
    "Вариант 1 \\\n",
    "Дано:\n",
    "$$ y'' + 2y' = 4e^{x} (\\sin x + \\cos x )  $$\n",
    "$$ y(0) = 1 $$\n",
    "$$ y'(1) = 2 $$"
   ]
  },
  {
   "cell_type": "code",
   "execution_count": 11,
   "metadata": {},
   "outputs": [],
   "source": [
    "import numpy as np\n",
    "import iter\n",
    "import graph\n",
    "import pandas"
   ]
  },
  {
   "cell_type": "markdown",
   "metadata": {},
   "source": [
    "$$ \\Rightarrow From = 0 $$\n",
    "$$ \\Rightarrow To = 1 $$"
   ]
  },
  {
   "cell_type": "markdown",
   "metadata": {},
   "source": [
    "Метод сеток состоит в том, что область (From; To) заменяется дискретной областью — массивом из N точек"
   ]
  },
  {
   "cell_type": "code",
   "execution_count": 12,
   "metadata": {},
   "outputs": [
    {
     "name": "stdout",
     "output_type": "stream",
     "text": [
      "len(Points)=4\tN=4\n",
      "Points=[0.0, 0.3333333333333333, 0.6666666666666666, 1.0]\n"
     ]
    }
   ],
   "source": [
    "From = 0\n",
    "To = 1\n",
    "N = int(4)\n",
    "if N == 1:\n",
    "    raise ValueError('To less points. Must be greater than 1 .')\n",
    "H = (To - From) / (N - 1)\n",
    "Points = [ a*H + From for a in range(N) ]\n",
    "print(f\"{len(Points)=}\\t{N=}\\n{Points=}\")\n"
   ]
  },
  {
   "cell_type": "markdown",
   "metadata": {},
   "source": [
    "Соответственно:\n",
    "$$ L(y) \\equiv y'' + p(x) y' +q(x) y = f(x) $$\n",
    "$$ \\Rightarrow p(x) = 2 $$\n",
    "$$ \\Rightarrow q(x) = 0 $$\n",
    "$$ \\Rightarrow f(x) = 4e^{x} (\\sin x + \\cos x ) $$\n",
    "$$ l_\\alpha(y) = \\alpha_0 y(From) + \\alpha_1 y'(From) = A $$\n",
    "$$ \\Rightarrow \\alpha_0 = 1 $$\n",
    "$$ \\Rightarrow \\alpha_1 = 0 $$\n",
    "$$ \\Rightarrow A = 1 $$\n",
    "$$ l_\\beta(y) = \\beta_0 y(To) + \\beta_1 y'(To) = B $$\n",
    "$$ \\Rightarrow \\beta_0 = 0 $$\n",
    "$$ \\Rightarrow \\beta_1 = 1 $$\n",
    "$$ \\Rightarrow B = 2 $$"
   ]
  },
  {
   "cell_type": "code",
   "execution_count": 13,
   "metadata": {},
   "outputs": [],
   "source": [
    "def err_runge(N: int):\n",
    "\tdelta_max:float = 0\n",
    "\titer.regen_grid(N)\n",
    "\tYi = iter.iter(N)\n",
    "\titer.regen_grid(N*2)\n",
    "\tY2i = iter.iter(2*N)\n",
    "\tfor i in range(N):\n",
    "\t\tdelta = abs(Yi[i] - Y2i[i*2])\n",
    "\t\tif delta > delta_max:\n",
    "\t\t\tdelta_max = delta\n",
    "\treturn delta_max / (2**1 - 1)\n",
    "\n",
    "def err_common(N: int):\n",
    "\tdelta_max:float = 0\n",
    "\tPoints = [ a*H + From for a in range(N) ]\n",
    "\tYi = iter.iter(N)\n",
    "\tYYi = [ iter.ASolution(x) for x in Points ]\n",
    "\tfor i in range(N):\n",
    "\t\tdelta = abs(Yi[i] - YYi[i])\n",
    "\t\tif delta > delta_max:\n",
    "\t\t\tdelta_max = delta\n",
    "\treturn delta_max"
   ]
  },
  {
   "cell_type": "code",
   "execution_count": 14,
   "metadata": {},
   "outputs": [],
   "source": [
    "from pyparsing import withClass\n",
    "\n",
    "\n",
    "def main():\n",
    "\tglobal N, Points\n",
    "\titer.regen_grid(N)\n",
    "\twhile err_runge(N) > 0.1:\n",
    "\t\tN = N * 2\n",
    "\t\titer.regen_grid(N)\n",
    "\titer.save_csv(N, 'data.csv')\n",
    "\tgraph.draw_pic('data.csv', 'fig.svg')\n",
    "\tprint(f\"{err_common(N)=}\\t{err_runge(N)=}\\t{N=}\")\n",
    "\tprint(pandas.read_csv('data.csv',sep='\\t', names=[\"X\", \"Прогонка\", \"F\", \"Левая часть\", \"Решение\", \"DY\"]))\n"
   ]
  },
  {
   "cell_type": "code",
   "execution_count": 15,
   "metadata": {},
   "outputs": [
    {
     "name": "stdout",
     "output_type": "stream",
     "text": [
      "err_common(N)=2.8281112930797906e+18\terr_runge(N)=0.06668439172482543\tN=128\n",
      "            X  Прогонка          F  Левая часть   Решение         DY\n",
      "0    0.000000  1.000000   4.000000     3.522833  0.687313 -20.467478\n",
      "1    0.007874  0.840212   4.063240     3.906001  0.530050 -20.118655\n",
      "2    0.015748  0.683171   4.126976     4.129556  0.375494 -19.772308\n",
      "3    0.023622  0.528837   4.191208     4.193748  0.223607 -19.430873\n",
      "4    0.031496  0.377173   4.255936     4.258436  0.074351 -19.094269\n",
      "..        ...       ...        ...          ...       ...        ...\n",
      "123  0.968504 -5.693931  14.651072    14.651328 -5.868412   1.601003\n",
      "124  0.976378 -5.680970  14.744901    14.745148 -5.855088   1.690816\n",
      "125  0.984252 -5.667304  14.838376    14.838615 -5.841065   1.779956\n",
      "126  0.992126 -5.652939  14.931481    14.931712 -5.826348   1.868433\n",
      "127  1.000000 -5.637880  15.024197    15.044928 -5.810943   1.956253\n",
      "\n",
      "[128 rows x 6 columns]\n"
     ]
    }
   ],
   "source": [
    "if __name__ == '__main__':\n",
    "\tmain()"
   ]
  }
 ],
 "metadata": {
  "kernelspec": {
   "display_name": "Python 3.10.5 64-bit",
   "language": "python",
   "name": "python3"
  },
  "language_info": {
   "codemirror_mode": {
    "name": "ipython",
    "version": 3
   },
   "file_extension": ".py",
   "mimetype": "text/x-python",
   "name": "python",
   "nbconvert_exporter": "python",
   "pygments_lexer": "ipython3",
   "version": "3.10.5"
  },
  "orig_nbformat": 4,
  "vscode": {
   "interpreter": {
    "hash": "26de051ba29f2982a8de78e945f0abaf191376122a1563185a90213a26c5da77"
   }
  }
 },
 "nbformat": 4,
 "nbformat_minor": 2
}
